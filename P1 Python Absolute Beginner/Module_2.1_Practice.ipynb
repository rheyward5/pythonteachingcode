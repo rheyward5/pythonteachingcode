{
 "cells": [
  {
   "cell_type": "markdown",
   "metadata": {},
   "source": [
    "# P1M2:Module 2 Practice\n",
    "## Functions Arguments & Parameters\n",
    "<font size=\"5\" color=\"#00A0B2\"  face=\"verdana\"> <B>Student will be able to</B></font>  \n",
    "- **create functions with a parameter**  \n",
    "- **create functions with a `return` value** \n",
    "- **create functions with multiple parameters**\n",
    "- **use knowledge of sequence in coding tasks**  \n",
    "- **use coding best practices** "
   ]
  },
  {
   "cell_type": "markdown",
   "metadata": {},
   "source": [
    "## &nbsp;\n",
    "<font size=\"6\" color=\"#B24C00\"  face=\"verdana\"> <B>Tasks</B></font>"
   ]
  },
  {
   "cell_type": "code",
   "execution_count": 8,
   "metadata": {},
   "outputs": [
    {
     "name": "stdout",
     "output_type": "stream",
     "text": [
      "Roses are red, violets are blue\n",
      "Sugar is sweet, and so are you!\n"
     ]
    }
   ],
   "source": [
    "# [ ] define and call a function short_rhyme() that prints a 2 line rhyme\n",
    "def short_rhyme():\n",
    "    print(\"Roses are red, violets are blue\")\n",
    "    print(\"Sugar is sweet, and so are you!\")\n",
    "\n",
    "short_rhyme()"
   ]
  },
  {
   "cell_type": "code",
   "execution_count": 7,
   "metadata": {},
   "outputs": [
    {
     "name": "stdout",
     "output_type": "stream",
     "text": [
      "The Adventures Of Loser Nation\n"
     ]
    }
   ],
   "source": [
    "# [ ] define (def) a simple function: title_it() and call the function\n",
    "# - has a string parameter: msg\n",
    "# - prints msg in Title Case\n",
    "def title_it(msg):\n",
    "    print(msg.title())\n",
    "\n",
    "title_it(\"the adventures of loser nation\")"
   ]
  },
  {
   "cell_type": "code",
   "execution_count": 10,
   "metadata": {},
   "outputs": [
    {
     "name": "stdout",
     "output_type": "stream",
     "text": [
      "Help He Chasing Me\n"
     ]
    }
   ],
   "source": [
    "# [ ] get user input with prompt \"what is the title?\" \n",
    "# [ ] call title_it() using input for the string argument\n",
    "def title_it(msg):\n",
    "    print(msg.title())\n",
    "\n",
    "user_title = input(\"What is the title? \")\n",
    "\n",
    "title_it(user_title)\n"
   ]
  },
  {
   "cell_type": "code",
   "execution_count": 11,
   "metadata": {},
   "outputs": [
    {
     "name": "stdout",
     "output_type": "stream",
     "text": [
      "Salute\n"
     ]
    }
   ],
   "source": [
    "# [ ] define title_it_rtn() which returns a titled string instead of printing\n",
    "# [ ] call title_it_rtn() using input for the string argumetnt and print the result\n",
    "def title_it_rtn(msg):\n",
    "    return msg.title()\n",
    "user_title = input(\"What is the title? \")\n",
    "print(title_it_rtn(user_title))\n",
    "\n"
   ]
  },
  {
   "cell_type": "markdown",
   "metadata": {},
   "source": [
    "## Program: bookstore()\n",
    "create and test bookstore()\n",
    "- **bookstore() takes 2 string arguments: book & price**\n",
    "- **bookstore returns a string in sentence form** \n",
    "- **bookstore() should call title_it_rtn()** with book parameter  \n",
    "- **gather input for book_entry and price_entry to use in calling bookstore()**\n",
    "- **print the return value of bookstore()**\n",
    ">example of output: **`Title: The Adventures Of Sherlock Holmes, costs $12.99`**"
   ]
  },
  {
   "cell_type": "code",
   "execution_count": 8,
   "metadata": {},
   "outputs": [
    {
     "name": "stdout",
     "output_type": "stream",
     "text": [
      "<class 'tuple'>\n",
      "<class 'list'>\n",
      "<class 'dict'>\n",
      "D\n"
     ]
    }
   ],
   "source": [
    "# [ ] create, call and test bookstore() function\n",
    "def bookstore():\n",
    "    return \"This book costs $25.\"\n",
    "\n",
    "var1 = ()\n",
    "var2 = []\n",
    "var3 = {}\n",
    "print(type(var1))\n",
    "print(type(var2))\n",
    "print(type(var3))\n",
    "my_string = \"Dominic\"\n",
    "print(my_string[0])"
   ]
  },
  {
   "cell_type": "markdown",
   "metadata": {},
   "source": [
    "### Fix the error"
   ]
  },
  {
   "cell_type": "code",
   "execution_count": 12,
   "metadata": {},
   "outputs": [
    {
     "name": "stdout",
     "output_type": "stream",
     "text": [
      "sup Nakayiah!\n"
     ]
    }
   ],
   "source": [
    "def make_greeting(name, greeting = \"Hello\"):\n",
    "    return (greeting + \" \" + name + \"!\")\n",
    "\n",
    "# get name and greeting, send to make_greeting \n",
    "\n",
    "\n",
    "def get_name():\n",
    "    name_entry = input(\"enter a name: \")\n",
    "    return name_entry\n",
    "\n",
    "def get_greeting():\n",
    "    greeting_entry = input(\"enter a greeting: \")\n",
    "    return greeting_entry\n",
    "\n",
    "print(make_greeting(get_name(), get_greeting()))\n",
    "\n"
   ]
  },
  {
   "cell_type": "markdown",
   "metadata": {},
   "source": [
    "\n",
    "[Terms of use](http://go.microsoft.com/fwlink/?LinkID=206977) &nbsp; [Privacy & cookies](https://go.microsoft.com/fwlink/?LinkId=521839) &nbsp; © 2017 Microsoft"
   ]
  }
 ],
 "metadata": {
  "anaconda-cloud": {},
  "kernelspec": {
   "display_name": "Python 3",
   "language": "python",
   "name": "python3"
  },
  "language_info": {
   "codemirror_mode": {
    "name": "ipython",
    "version": 3
   },
   "file_extension": ".py",
   "mimetype": "text/x-python",
   "name": "python",
   "nbconvert_exporter": "python",
   "pygments_lexer": "ipython3",
   "version": "3.12.1"
  }
 },
 "nbformat": 4,
 "nbformat_minor": 1
}
